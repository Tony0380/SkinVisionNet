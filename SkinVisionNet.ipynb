{
 "cells": [
  {
   "metadata": {},
   "cell_type": "markdown",
   "source": [
    "# SkinVisionNet\n",
    "Deep Learning Techniques for Accurate Pigmented Skin Lesion Classification\n",
    "\n"
   ],
   "id": "94a420f4a4be1a66"
  },
  {
   "metadata": {},
   "cell_type": "markdown",
   "source": [
    "## Dataset retrieval\n",
    "\n",
    "_Link Dataset:_ https://www.kaggle.com/datasets/wanderdust/skin-lesion-analysis-toward-melanoma-detection/data\n"
   ],
   "id": "811546e46b9029eb"
  },
  {
   "metadata": {},
   "cell_type": "code",
   "outputs": [],
   "execution_count": null,
   "source": [
    "import kagglehub\n",
    "\n",
    "path = kagglehub.dataset_download(\"wanderdust/skin-lesion-analysis-toward-melanoma-detection\")\n",
    "\n",
    "print(\"Path to dataset files:\", path)\n"
   ],
   "id": "1bc202bcf249f97e"
  }
 ],
 "metadata": {
  "kernelspec": {
   "display_name": "Python 3",
   "language": "python",
   "name": "python3"
  },
  "language_info": {
   "codemirror_mode": {
    "name": "ipython",
    "version": 2
   },
   "file_extension": ".py",
   "mimetype": "text/x-python",
   "name": "python",
   "nbconvert_exporter": "python",
   "pygments_lexer": "ipython2",
   "version": "2.7.6"
  }
 },
 "nbformat": 4,
 "nbformat_minor": 5
}
